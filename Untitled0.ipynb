{
  "nbformat": 4,
  "nbformat_minor": 0,
  "metadata": {
    "colab": {
      "provenance": [],
      "authorship_tag": "ABX9TyOVQU3EJn+doRPFiNonA/un",
      "include_colab_link": true
    },
    "kernelspec": {
      "name": "python3",
      "display_name": "Python 3"
    },
    "language_info": {
      "name": "python"
    }
  },
  "cells": [
    {
      "cell_type": "markdown",
      "metadata": {
        "id": "view-in-github",
        "colab_type": "text"
      },
      "source": [
        "<a href=\"https://colab.research.google.com/github/omkar4096/NN_IP_1/blob/main/Untitled0.ipynb\" target=\"_parent\"><img src=\"https://colab.research.google.com/assets/colab-badge.svg\" alt=\"Open In Colab\"/></a>"
      ]
    },
    {
      "cell_type": "code",
      "execution_count": 6,
      "metadata": {
        "colab": {
          "base_uri": "https://localhost:8080/"
        },
        "id": "E7CeAuVzv99G",
        "outputId": "a68f1c5b-a124-4368-da60-11ad4014ea14"
      },
      "outputs": [
        {
          "output_type": "stream",
          "name": "stdout",
          "text": [
            "noht\n"
          ]
        }
      ],
      "source": [
        "x=list(\"python\")\n",
        "del x[:2]\n",
        "x.reverse()\n",
        "rev_str= ''.join(x)\n",
        "print(rev_str)"
      ]
    },
    {
      "cell_type": "code",
      "source": [
        "x=\"I love playing with python \"\n",
        "y= x.replace('python','pythons')\n",
        "print(y)"
      ],
      "metadata": {
        "colab": {
          "base_uri": "https://localhost:8080/"
        },
        "id": "-0Owd9B166Td",
        "outputId": "c6fd5f6c-7a20-4469-9a02-75b28944109e"
      },
      "execution_count": 1,
      "outputs": [
        {
          "output_type": "stream",
          "name": "stdout",
          "text": [
            "I love playing with pythons \n"
          ]
        }
      ]
    },
    {
      "cell_type": "code",
      "source": [
        "#Use the if statement conditions to write a program to print the letter grade based on an input class score. Use the grading scheme we are using in this class.\n",
        "\n",
        "grade = int(input(\"Enter the grade of the person: \"))\n",
        "if grade >= 90:\n",
        "    print(\"A grade\")\n",
        "\n",
        "elif grade >=80:\n",
        "    print(\"B grade\")\n",
        "\n",
        "elif grade >=70:\n",
        "    print(\"C grade\")\n",
        "\n",
        "elif grade >= 60:\n",
        "    print(\"D grade\")\n",
        "\n",
        "else:\n",
        "    print(\"Fail grade\")"
      ],
      "metadata": {
        "id": "uXePdyQg79hF",
        "colab": {
          "base_uri": "https://localhost:8080/"
        },
        "outputId": "56a75abb-f788-49e8-abf3-ce6dd3d09c23"
      },
      "execution_count": 5,
      "outputs": [
        {
          "output_type": "stream",
          "name": "stdout",
          "text": [
            "Enter the grade of the person: 80\n",
            "B grade\n"
          ]
        }
      ]
    }
  ]
}